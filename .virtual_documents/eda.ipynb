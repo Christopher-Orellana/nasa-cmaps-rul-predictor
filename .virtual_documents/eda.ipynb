import pandas as pd


df = pd.read_csv("data/train_FD001.txt", sep=" ", header=None)


df


df.dropna(axis=1, how='all', inplace=True)


df
