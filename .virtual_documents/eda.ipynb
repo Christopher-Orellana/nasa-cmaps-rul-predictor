





import pandas as pd
import numpy as np
import matplotlib.pyplot as plt
import seaborn as sns


# Load in dataset and label columns
col_names = (
    ["unit_number", "time_in_cycles"] + 
    [f"operational_setting_{i}" for i in range(1,4)] +
    [f"sensor_{i}" for i in range(1, 22)]
)

df = pd.read_csv("data/train_FD001.txt", sep=r"\s+", header=None, names=col_names)


df





# Get max cycle for each engine
rul_lookup = df.groupby("unit_number")["time_in_cycles"].max().reset_index()
rul_lookup.columns = ["unit_number", "max_cycle"]
rul_lookup


# Merge max_cycle for each unit back into the dataframe to calculate RUL
df = df.merge(rul_lookup, on="unit_number")
df['RUL'] = df["max_cycle"] - df["time_in_cycles"]


# Square root rule to decide number of bins
num_bins = int(np.sqrt(20631))





# Plot RUL distribution with square root rule
sns.histplot(data=df, x="RUL", bins=num_bins)
plt.title("RUL Distribution w 143 Bins")
plt.xlabel("Remaining Useful Life")
plt.ylabel("Frequency")
plt.show()


# Plot RUL distribution with lower number of bins
sns.histplot(data=df, x="RUL", bins=70)
plt.title("RUL Distribution w 70 bins")
plt.xlabel("Remaining Useful Life")
plt.ylabel("Frequency")
plt.show()


# Get list of column names
df_columns = df.columns


# Check distributions of variables in the dataset
for col in df_columns:
    sns.histplot(data=df, x=col, bins=num_bins)
    plt.title(f"{col} Distribution w 143 bins")
    plt.xlabel(f"{col}")
    plt.ylabel("Frequency")
    plt.show()





# Check for nulls in data
df.info()


# Check shape of the datset
df.shape


# Generate simple statistics for each feature
df.describe()


# Check amount of unique values in each feature and append those with 1 or less to dropping list
unique_numbers_1_todrop = []

for x, y in df.nunique().sort_values().items():
    if y <= 1:
        unique_numbers_1_todrop.append(x)
        
unique_numbers_1_todrop


# Drop features with only one unique value
df = df.drop(columns=unique_numbers_1_todrop)
df.info()


# Sanity check for dropped features
df.nunique().sort_values()


# Create correlation matrix heatmap
corr = df.corr()

plt.figure(figsize=(20, 15))
sns.heatmap(corr, annot=True, fmt=".2f", cmap="coolwarm")
plt.title('Correlation Matrix Heatmap')
plt.show()





# Log variables with low correlation to RUL 
low_corr_to_rul = corr["RUL"][abs(corr["RUL"]) < 0.05].index.tolist()
low_corr_to_rul


# Log variables with high correlation to RUL
high_corr_to_rul = corr["RUL"][abs(corr["RUL"]) > 0.85].index.tolist()
high_corr_to_rul


for col in df.columns:
    sns.scatterplot(data=df, x="RUL", y=col, bins=num_bins, alpha=0.3)
    plt.title(f"{x} vs RUL")
    plt.xlabel("Remaining Uselful Life")
    plt.ylabel(col)
    plt.show()



